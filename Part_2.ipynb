{
 "cells": [
  {
   "cell_type": "markdown",
   "metadata": {},
   "source": [
    "# Задание 2: SQL"
   ]
  },
  {
   "cell_type": "code",
   "execution_count": 1,
   "metadata": {},
   "outputs": [],
   "source": [
    "import pandas as pd\n",
    "import numpy as np\n",
    "\n",
    "import matplotlib.pyplot as plt\n",
    "import seaborn as sns\n",
    "sns.set(style = 'whitegrid')\n",
    "\n",
    "import warnings\n",
    "warnings.filterwarnings('ignore')\n",
    "\n",
    "import pandahouse as ph"
   ]
  },
  {
   "cell_type": "code",
   "execution_count": 2,
   "metadata": {},
   "outputs": [],
   "source": [
    "# подключение \n",
    "connection_default = {'host': 'https://clickhouse.lab.karpov.courses',\n",
    "                      'database':'default',\n",
    "                      'user':'student', \n",
    "                      'password':'dpo_python_2020'\n",
    "                     }"
   ]
  },
  {
   "cell_type": "markdown",
   "metadata": {},
   "source": [
    "## 2.1 Очень усердные ученики"
   ]
  },
  {
   "cell_type": "code",
   "execution_count": 3,
   "metadata": {},
   "outputs": [
    {
     "data": {
      "text/html": [
       "<div>\n",
       "<style scoped>\n",
       "    .dataframe tbody tr th:only-of-type {\n",
       "        vertical-align: middle;\n",
       "    }\n",
       "\n",
       "    .dataframe tbody tr th {\n",
       "        vertical-align: top;\n",
       "    }\n",
       "\n",
       "    .dataframe thead th {\n",
       "        text-align: right;\n",
       "    }\n",
       "</style>\n",
       "<table border=\"1\" class=\"dataframe\">\n",
       "  <thead>\n",
       "    <tr style=\"text-align: right;\">\n",
       "      <th></th>\n",
       "      <th>number_of_good_students</th>\n",
       "    </tr>\n",
       "  </thead>\n",
       "  <tbody>\n",
       "    <tr>\n",
       "      <th>0</th>\n",
       "      <td>136</td>\n",
       "    </tr>\n",
       "  </tbody>\n",
       "</table>\n",
       "</div>"
      ],
      "text/plain": [
       "   number_of_good_students\n",
       "0                      136"
      ]
     },
     "execution_count": 3,
     "metadata": {},
     "output_type": "execute_result"
    }
   ],
   "source": [
    "# запрос\n",
    "q = '''\n",
    "\n",
    "SELECT count(st_id) AS number_of_good_students\n",
    "FROM (\n",
    "    SELECT st_id\n",
    "    FROM default.peas\n",
    "    WHERE toStartOfMonth(timest) = (SELECT max(toStartOfMonth(timest))\n",
    "                                    FROM default.peas)\n",
    "    GROUP BY st_id\n",
    "    HAVING SUM(correct) >= 20\n",
    "    )\n",
    "\n",
    "'''\n",
    "\n",
    "good_students = ph.read_clickhouse(query=q, connection=connection_default)\n",
    "good_students"
   ]
  },
  {
   "cell_type": "markdown",
   "metadata": {},
   "source": [
    "## 2.2 Оптимизация воронки"
   ]
  },
  {
   "cell_type": "code",
   "execution_count": 4,
   "metadata": {},
   "outputs": [
    {
     "data": {
      "text/html": [
       "<div>\n",
       "<style scoped>\n",
       "    .dataframe tbody tr th:only-of-type {\n",
       "        vertical-align: middle;\n",
       "    }\n",
       "\n",
       "    .dataframe tbody tr th {\n",
       "        vertical-align: top;\n",
       "    }\n",
       "\n",
       "    .dataframe thead th {\n",
       "        text-align: right;\n",
       "    }\n",
       "</style>\n",
       "<table border=\"1\" class=\"dataframe\">\n",
       "  <thead>\n",
       "    <tr style=\"text-align: right;\">\n",
       "      <th></th>\n",
       "      <th>user_group</th>\n",
       "      <th>ARPU</th>\n",
       "      <th>ARPAU</th>\n",
       "      <th>CR_all</th>\n",
       "      <th>CR_active</th>\n",
       "      <th>CR_math</th>\n",
       "    </tr>\n",
       "  </thead>\n",
       "  <tbody>\n",
       "    <tr>\n",
       "      <th>0</th>\n",
       "      <td>control</td>\n",
       "      <td>4540.98</td>\n",
       "      <td>10393.70</td>\n",
       "      <td>4.92</td>\n",
       "      <td>11.02</td>\n",
       "      <td>10.20</td>\n",
       "    </tr>\n",
       "    <tr>\n",
       "      <th>1</th>\n",
       "      <td>pilot</td>\n",
       "      <td>11508.47</td>\n",
       "      <td>29739.58</td>\n",
       "      <td>10.85</td>\n",
       "      <td>26.04</td>\n",
       "      <td>14.29</td>\n",
       "    </tr>\n",
       "  </tbody>\n",
       "</table>\n",
       "</div>"
      ],
      "text/plain": [
       "  user_group      ARPU     ARPAU  CR_all  CR_active  CR_math\n",
       "0    control   4540.98  10393.70    4.92      11.02    10.20\n",
       "1      pilot  11508.47  29739.58   10.85      26.04    14.29"
      ]
     },
     "execution_count": 4,
     "metadata": {},
     "output_type": "execute_result"
    }
   ],
   "source": [
    "# запрос\n",
    "q_2 = '''\n",
    "\n",
    "WITH active_students AS (\n",
    "    -- добавляем столбцы с информацией об активных студентах\n",
    "    SELECT \n",
    "        st_id,\n",
    "        if(solved_tasks > 10, 1, 0) AS all_active,\n",
    "        if(solved_math_tasks >= 2, 1, 0) AS math_active\n",
    "    FROM (\n",
    "        -- считаем общее количество правльных зачаний и количество правильных заданий по математике\n",
    "        SELECT \n",
    "            st_id,\n",
    "            count(correct) AS solved_tasks,\n",
    "            sumIf(correct, subject = 'Math') AS solved_math_tasks\n",
    "        FROM default.peas\n",
    "        GROUP BY st_id\n",
    "        HAVING correct = 1\n",
    "        )\n",
    ")\n",
    "\n",
    "--\n",
    "SELECT \n",
    "    groups.test_grp AS user_group,\n",
    "    ROUND(SUM(orders.money) / uniqExact(groups.st_id), 2) AS ARPU,\n",
    "    ROUND(sumIf(orders.money, active.all_active = 1) / uniqExactIf(groups.st_id, active.all_active = 1), 2) AS ARPAU,\n",
    "    ROUND(uniqExactIf(groups.st_id, orders.money > 0) / uniqExact(groups.st_id) * 100, 2) AS CR_all,\n",
    "    ROUND(uniqExactIf(groups.st_id, orders.money > 0 and active.all_active = 1) / \n",
    "          uniqExactIf(groups.st_id, active.all_active = 1) * 100, 2) AS CR_active,\n",
    "    ROUND(uniqExactIf(groups.st_id, orders.money > 0 and active.math_active = 1) / \n",
    "          uniqExactIf(groups.st_id, active.math_active = 1) * 100, 2) AS CR_math\n",
    "FROM default.studs AS groups\n",
    "LEFT JOIN default.final_project_check AS orders\n",
    "    ON groups.st_id = orders.st_id\n",
    "LEFT JOIN active_students AS active\n",
    "    ON active.st_id = groups.st_id\n",
    "GROUP BY user_group\n",
    "\n",
    "'''\n",
    "\n",
    "metrics = ph.read_clickhouse(query=q_2, connection=connection_default)\n",
    "metrics"
   ]
  }
 ],
 "metadata": {
  "kernelspec": {
   "display_name": "Python 3",
   "language": "python",
   "name": "python3"
  },
  "language_info": {
   "codemirror_mode": {
    "name": "ipython",
    "version": 3
   },
   "file_extension": ".py",
   "mimetype": "text/x-python",
   "name": "python",
   "nbconvert_exporter": "python",
   "pygments_lexer": "ipython3",
   "version": "3.7.3"
  }
 },
 "nbformat": 4,
 "nbformat_minor": 4
}
